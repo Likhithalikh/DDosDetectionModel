{
  "cells": [
    {
      "cell_type": "code",
      "execution_count": null,
      "metadata": {
        "colab": {
          "background_save": true
        },
        "id": "PC0OzjpWFNQv"
      },
      "outputs": [],
      "source": [
        "import pandas as pd\n",
        "import numpy as np\n",
        "from sklearn.model_selection import train_test_split\n",
        "from sklearn.linear_model import LogisticRegression\n",
        "from sklearn.tree import DecisionTreeClassifier\n",
        "from sklearn.neighbors import KNeighborsClassifier\n",
        "from sklearn.ensemble import RandomForestClassifier\n",
        "from sklearn.metrics import accuracy_score, classification_report, confusion_matrix, mean_squared_error\n",
        "import time\n",
        "import matplotlib.pyplot as plt\n",
        "from matplotlib.pyplot import figure\n",
        "\n",
        "class Model:\n",
        "    def __init__(self, data, labels):\n",
        "        self.data = data\n",
        "        self.labels = labels\n",
        "        self.X_train, self.X_test, self.y_train, self.y_test = train_test_split(self.data, self.labels, random_state=42, test_size=0.3)\n",
        "\n",
        "\n",
        "\n",
        "\n",
        "    def LogisticRegression(self):\n",
        "        solvers = ['newton-cg', 'lbfgs', 'liblinear', 'sag', 'saga']\n",
        "        start_time = time.time()\n",
        "        results_lr = []\n",
        "        accuracy_list = []\n",
        "        for solver in solvers:\n",
        "            LR = LogisticRegression(C=0.03, solver=solver).fit(self.X_train, self.y_train)\n",
        "            predicted_lr = LR.predict(self.X_test)\n",
        "            accuracy_lr = accuracy_score(self.y_test, predicted_lr)\n",
        "            results_lr.append({'solver' : solver, 'accuracy': str(round(accuracy_lr * 100, 2)) + \"%\", 'Coefficients':\n",
        "             {'W' : LR.coef_, 'b': LR.intercept_}})\n",
        "            accuracy_list.append(accuracy_lr)\n",
        "        solver_name = solvers[accuracy_list.index(max(accuracy_list))]\n",
        "        LR = LogisticRegression(C=0.03, solver=solver_name).fit(self.X_train,self.y_train)\n",
        "        predicted_lr = LR.predict(self.X_test)\n",
        "        accuracy_lr = accuracy_score(self.y_test, predicted_lr)\n",
        "        mse_lr = mean_squared_error(self.y_test, predicted_lr)\n",
        "        rmse_lr = np.sqrt(mse_lr)\n",
        "\n",
        "\n",
        "        print(\"#############################################################################\")\n",
        "        print(\"Accuracy: %.2f%%\" % (accuracy_lr * 100.0), '\\n')\n",
        "        print(\"--------------------------------------------------------------------------\")\n",
        "        print('Best solver is : ', solver_name)\n",
        "        print(\"--------------------------------------------------------------------------\")\n",
        "        print(classification_report(predicted_lr, self.y_test), '\\n')\n",
        "        print(\"--------------------------------------------------------------------------\")\n",
        "        cm = confusion_matrix(self.y_test, predicted_lr)\n",
        "        print(\"Confusion Matrix:\")\n",
        "        print(cm)\n",
        "        print(\"--------------------------------------------------------------------------\")\n",
        "        print(\"Mean Square Error: %.2f\" % mse_lr)\n",
        "        print(\"Root Mean Square Error: %.2f\" % rmse_lr)\n",
        "        print(\"--------------------------------------------------------------------------\")\n",
        "        print(\"--- %s seconds --- time for LogisticRegression\" % (time.time() - start_time))\n",
        "        print(\"#############################################################################\")\n",
        "\n",
        "\n",
        "    def DecisionTree(self):\n",
        "        start_time = time.time()\n",
        "        dtree = DecisionTreeClassifier(max_depth=5)  # Set max_depth to limit the depth of the tree\n",
        "        dtree.fit(self.X_train, self.y_train)\n",
        "        predicted_dtree = dtree.predict(self.X_test)\n",
        "        accuracy_dtree = accuracy_score(self.y_test, predicted_dtree)\n",
        "        mse_dtree = mean_squared_error(self.y_test, predicted_dtree)\n",
        "        rmse_dtree = np.sqrt(mse_dtree)\n",
        "\n",
        "        print(\"#############################################################################\")\n",
        "        print(\"Accuracy: %.2f%%\" % (accuracy_dtree * 100.0), '\\n')\n",
        "        print(\"--------------------------------------------------------------------------\")\n",
        "        print(\"Decision Tree Classifier Results:\")\n",
        "        print(\"--------------------------------------------------------------------------\")\n",
        "        print(classification_report(predicted_dtree, self.y_test), '\\n')\n",
        "        print(\"--------------------------------------------------------------------------\")\n",
        "        cm = confusion_matrix(self.y_test, predicted_dtree)\n",
        "        print(\"Confusion Matrix:\")\n",
        "        print(cm)\n",
        "        print(\"--------------------------------------------------------------------------\")\n",
        "        print(\"Mean Squared Error: %.2f\" % mse_dtree, '\\n')\n",
        "        print(\"Root Mean Squared Error: %.2f\" % rmse_dtree, '\\n')\n",
        "        print(\"--------------------------------------------------------------------------\")\n",
        "        print(\"--- %s seconds --- time for Decision Tree\" % (time.time() - start_time))\n",
        "        print(\"#############################################################################\")\n",
        "\n",
        "    def KNN(self):\n",
        "        start_time = time.time()\n",
        "        knn = KNeighborsClassifier(n_neighbors=5)\n",
        "        knn.fit(self.X_train, self.y_train)\n",
        "        predicted_knn = knn.predict(self.X_test)\n",
        "        accuracy_knn = accuracy_score(self.y_test, predicted_knn)\n",
        "        mse_knn = mean_squared_error(self.y_test, predicted_knn)\n",
        "        rmse_knn = np.sqrt(mse_knn)\n",
        "\n",
        "        print(\"#############################################################################\")\n",
        "        print(\"Accuracy: %.2f%%\" % (accuracy_knn * 100.0), '\\n')\n",
        "        print(\"--------------------------------------------------------------------------\")\n",
        "        print(\"K-Nearest Neighbors Classifier Results:\")\n",
        "        print(\"--------------------------------------------------------------------------\")\n",
        "        print(classification_report(predicted_knn, self.y_test), '\\n')\n",
        "        print(\"--------------------------------------------------------------------------\")\n",
        "        cm = confusion_matrix(self.y_test, predicted_knn)\n",
        "        print(\"Confusion Matrix:\")\n",
        "        print(cm)\n",
        "        print(\"--------------------------------------------------------------------------\")\n",
        "        print(\"Mean Squared Error: %.2f\" % mse_knn, '\\n')\n",
        "        print(\"Root Mean Squared Error: %.2f\" % rmse_knn, '\\n')\n",
        "        print(\"--------------------------------------------------------------------------\")\n",
        "        print(\"--- %s seconds --- time for KNN\" % (time.time() - start_time))\n",
        "        print(\"#############################################################################\")\n",
        "\n",
        "\n",
        "\n",
        "    def RandomForest(self):\n",
        "        start_time = time.time()\n",
        "        rf = RandomForestClassifier(n_estimators=50, max_depth=5, min_samples_split=10, min_samples_leaf=5)\n",
        "        rf.fit(self.X_train, self.y_train)\n",
        "        predicted_rf = rf.predict(self.X_test)\n",
        "        accuracy_rf = accuracy_score(self.y_test, predicted_rf)\n",
        "        mse_rf = mean_squared_error(self.y_test, predicted_rf)\n",
        "        rmse_rf = np.sqrt(mse_rf)\n",
        "        print(\"#############################################################################\")\n",
        "        print(\"Accuracy: %.2f%%\" % (accuracy_rf * 100.0), '\\n')\n",
        "        print(\"--------------------------------------------------------------------------\")\n",
        "        print(\"Random Forest Classifier Results:\")\n",
        "        print(\"--------------------------------------------------------------------------\")\n",
        "        print(classification_report(predicted_rf, self.y_test), '\\n')\n",
        "        print(\"--------------------------------------------------------------------------\")\n",
        "        print(\"--- %s seconds --- time for Random Forest\" % (time.time() - start_time))\n",
        "        cm = confusion_matrix(self.y_test, predicted_rf)\n",
        "        print(\"Confusion Matrix:\")\n",
        "        print(cm)\n",
        "        print(\"--------------------------------------------------------------------------\")\n",
        "        print(\"Mean Squared Error: %.2f\" % mse_rf, '\\n')\n",
        "        print(\"Root Mean Squared Error: %.2f\" % rmse_rf, '\\n')\n",
        "        print(\"--------------------------------------------------------------------------\")\n",
        "        print(\"--- %s seconds --- time for Random Forest\" % (time.time() - start_time))\n",
        "        print(\"#############################################################################\")\n",
        "\n"
      ]
    },
    {
      "cell_type": "code",
      "execution_count": null,
      "metadata": {
        "id": "9ElL_guEFS1w"
      },
      "outputs": [],
      "source": [
        "data = pd.read_csv('/content/dataset_sdn.csv')\n"
      ]
    },
    {
      "cell_type": "code",
      "execution_count": null,
      "metadata": {
        "colab": {
          "base_uri": "https://localhost:8080/"
        },
        "id": "ZsvKhZQGuuGM",
        "outputId": "9bdd6cc1-63b6-4cd9-a548-1864bee66cd4"
      },
      "outputs": [
        {
          "data": {
            "text/plain": [
              "(104345, 23)"
            ]
          },
          "execution_count": 51,
          "metadata": {},
          "output_type": "execute_result"
        }
      ],
      "source": [
        "data.shape\n"
      ]
    },
    {
      "cell_type": "code",
      "execution_count": null,
      "metadata": {
        "colab": {
          "base_uri": "https://localhost:8080/"
        },
        "id": "aGhN6Zs7Y_c_",
        "outputId": "00b59ee4-5cb7-457c-eaa9-1a992e69e058"
      },
      "outputs": [
        {
          "data": {
            "text/plain": [
              "Index(['dt', 'switch', 'src', 'dst', 'pktcount', 'bytecount', 'dur',\n",
              "       'dur_nsec', 'tot_dur', 'flows', 'packetins', 'pktperflow',\n",
              "       'byteperflow', 'pktrate', 'Pairflow', 'Protocol', 'port_no', 'tx_bytes',\n",
              "       'rx_bytes', 'tx_kbps', 'rx_kbps', 'tot_kbps', 'label'],\n",
              "      dtype='object')"
            ]
          },
          "execution_count": 52,
          "metadata": {},
          "output_type": "execute_result"
        }
      ],
      "source": [
        "data.columns"
      ]
    },
    {
      "cell_type": "code",
      "execution_count": null,
      "metadata": {
        "colab": {
          "base_uri": "https://localhost:8080/"
        },
        "id": "z2rvA4x0281A",
        "outputId": "3e73c037-b96b-44f0-ec91-7c581545fb1d"
      },
      "outputs": [
        {
          "data": {
            "text/plain": [
              "array([0, 1])"
            ]
          },
          "execution_count": 53,
          "metadata": {},
          "output_type": "execute_result"
        }
      ],
      "source": [
        "data.label.unique()\n"
      ]
    },
    {
      "cell_type": "code",
      "execution_count": null,
      "metadata": {
        "colab": {
          "base_uri": "https://localhost:8080/"
        },
        "id": "M_nRxXhY3DQo",
        "outputId": "0e1f619c-6316-496f-d9f8-651c86d0a5f4"
      },
      "outputs": [
        {
          "data": {
            "text/plain": [
              "label\n",
              "0    63561\n",
              "1    40784\n",
              "Name: count, dtype: int64"
            ]
          },
          "execution_count": 54,
          "metadata": {},
          "output_type": "execute_result"
        }
      ],
      "source": [
        "data.label.value_counts()"
      ]
    },
    {
      "cell_type": "code",
      "execution_count": null,
      "metadata": {
        "colab": {
          "base_uri": "https://localhost:8080/"
        },
        "id": "Jgjs-UZaqQiB",
        "outputId": "3cbfeaab-78c8-468b-86ad-ca0e181502b8"
      },
      "outputs": [
        {
          "name": "stdout",
          "output_type": "stream",
          "text": [
            "dt               int64\n",
            "switch           int64\n",
            "src             object\n",
            "dst             object\n",
            "pktcount         int64\n",
            "bytecount        int64\n",
            "dur              int64\n",
            "dur_nsec         int64\n",
            "tot_dur        float64\n",
            "flows            int64\n",
            "packetins        int64\n",
            "pktperflow       int64\n",
            "byteperflow      int64\n",
            "pktrate          int64\n",
            "Pairflow         int64\n",
            "Protocol        object\n",
            "port_no          int64\n",
            "tx_bytes         int64\n",
            "rx_bytes         int64\n",
            "tx_kbps          int64\n",
            "rx_kbps        float64\n",
            "tot_kbps       float64\n",
            "label            int64\n",
            "dtype: object\n"
          ]
        }
      ],
      "source": [
        "print(data.dtypes)"
      ]
    },
    {
      "cell_type": "code",
      "execution_count": null,
      "metadata": {
        "colab": {
          "base_uri": "https://localhost:8080/",
          "height": 521
        },
        "id": "NPl95ptbvcx5",
        "outputId": "8ac45f47-bd2e-4f11-cdeb-e45d5c612c69"
      },
      "outputs": [
        {
          "data": {
            "image/png": "[encoded data removed]",
            "text/plain": [
              "<Figure size 1100x600 with 1 Axes>"
            ]
          },
          "metadata": {},
          "output_type": "display_data"
        }
      ],
      "source": [
        "labels = ['Benign','Maliciuous']\n",
        "sizes = [dict(data.label.value_counts())[0], dict(data.label.value_counts())[1]]\n",
        "plt.figure(figsize = (11,6))\n",
        "plt.pie(sizes, labels=labels, autopct='%1.1f%%',\n",
        "        shadow=True, startangle=90)\n",
        "plt.legend([ \"Benign\",\"Maliciuous\"])\n",
        "plt.title('The percentage of Benign and Maliciuos Requests in dataset')\n",
        "plt.show()\n"
      ]
    },
    {
      "cell_type": "code",
      "execution_count": null,
      "metadata": {
        "colab": {
          "base_uri": "https://localhost:8080/",
          "height": 530
        },
        "id": "5WXDxBYgvc1D",
        "outputId": "64e4cea1-f104-4bc0-9bfd-c467e98d4eef"
      },
      "outputs": [
        {
          "data": {
            "text/plain": [
              "Text(0.5, 1.0, 'Number of requests from different IP adress')"
            ]
          },
          "execution_count": 57,
          "metadata": {},
          "output_type": "execute_result"
        },
        {
          "data": {
            "image/png": "[encoded data removed]",
            "text/plain": [
              "<Figure size 960x560 with 1 Axes>"
            ]
          },
          "metadata": {},
          "output_type": "display_data"
        }
      ],
      "source": [
        "figure(figsize=(12, 7), dpi=80)\n",
        "plt.barh(list(dict(data.src.value_counts()).keys()), dict(data.src.value_counts()).values(), color='blue')\n",
        "plt.barh(list(dict(data[data.label == 1].src.value_counts()).keys()), dict(data[data.label == 1].src.value_counts()).values(), color='red')\n",
        "\n",
        "for idx, val in enumerate(dict(data.src.value_counts()).values()):\n",
        "    plt.text(x = val, y = idx-0.2, s = str(val), color='r', size = 13)\n",
        "\n",
        "for idx, val in enumerate(dict(data[data.label == 1].src.value_counts()).values()):\n",
        "    plt.text(x = val, y = idx-0.2, s = str(val), color='w', size = 13)\n",
        "\n",
        "\n",
        "plt.xlabel('Number of Requests')\n",
        "plt.ylabel('IP addres of sender')\n",
        "plt.legend(['All','malicious'])\n",
        "plt.title('Number of requests from different IP adress')"
      ]
    },
    {
      "cell_type": "code",
      "execution_count": null,
      "metadata": {
        "id": "odT-cySw6yhl"
      },
      "outputs": [],
      "source": [
        "df = data.dropna()\n",
        "x = df.drop(['dt','src','dst','label'], axis=1)\n",
        "y = df.label\n",
        "X = pd.get_dummies(x)"
      ]
    },
    {
      "cell_type": "code",
      "execution_count": null,
      "metadata": {
        "colab": {
          "base_uri": "https://localhost:8080/"
        },
        "id": "n-bxRnVC687P",
        "outputId": "9658c6f6-2788-46ac-8742-1c72572c2e4e"
      },
      "outputs": [
        {
          "name": "stderr",
          "output_type": "stream",
          "text": [
            "/usr/local/lib/python3.10/dist-packages/scipy/optimize/_linesearch.py:466: LineSearchWarning: The line search algorithm did not converge\n",
            "  warn('The line search algorithm did not converge', LineSearchWarning)\n",
            "/usr/local/lib/python3.10/dist-packages/scipy/optimize/_linesearch.py:314: LineSearchWarning: The line search algorithm did not converge\n",
            "  warn('The line search algorithm did not converge', LineSearchWarning)\n",
            "/usr/local/lib/python3.10/dist-packages/sklearn/utils/optimize.py:210: ConvergenceWarning: newton-cg failed to converge. Increase the number of iterations.\n",
            "  warnings.warn(\n",
            "/usr/local/lib/python3.10/dist-packages/sklearn/linear_model/_sag.py:350: ConvergenceWarning: The max_iter was reached which means the coef_ did not converge\n",
            "  warnings.warn(\n",
            "/usr/local/lib/python3.10/dist-packages/sklearn/linear_model/_sag.py:350: ConvergenceWarning: The max_iter was reached which means the coef_ did not converge\n",
            "  warnings.warn(\n",
            "/usr/local/lib/python3.10/dist-packages/scipy/optimize/_linesearch.py:466: LineSearchWarning: The line search algorithm did not converge\n",
            "  warn('The line search algorithm did not converge', LineSearchWarning)\n",
            "/usr/local/lib/python3.10/dist-packages/scipy/optimize/_linesearch.py:314: LineSearchWarning: The line search algorithm did not converge\n",
            "  warn('The line search algorithm did not converge', LineSearchWarning)\n",
            "/usr/local/lib/python3.10/dist-packages/sklearn/utils/optimize.py:210: ConvergenceWarning: newton-cg failed to converge. Increase the number of iterations.\n",
            "  warnings.warn(\n"
          ]
        },
        {
          "name": "stdout",
          "output_type": "stream",
          "text": [
            "#############################################################################\n",
            "Accuracy: 74.33% \n",
            "\n",
            "--------------------------------------------------------------------------\n",
            "Best solver is :  newton-cg\n",
            "--------------------------------------------------------------------------\n",
            "              precision    recall  f1-score   support\n",
            "\n",
            "           0       0.83      0.77      0.80     20453\n",
            "           1       0.61      0.69      0.65     10699\n",
            "\n",
            "    accuracy                           0.74     31152\n",
            "   macro avg       0.72      0.73      0.72     31152\n",
            "weighted avg       0.75      0.74      0.75     31152\n",
            " \n",
            "\n",
            "--------------------------------------------------------------------------\n",
            "Confusion Matrix:\n",
            "[[15721  3265]\n",
            " [ 4732  7434]]\n",
            "--------------------------------------------------------------------------\n",
            "Mean Square Error: 0.26\n",
            "Root Mean Square Error: 0.51\n",
            "--------------------------------------------------------------------------\n",
            "--- 57.25685453414917 seconds --- time for LogisticRegression\n",
            "#############################################################################\n",
            "#############################################################################\n",
            "Accuracy: 96.38% \n",
            "\n",
            "--------------------------------------------------------------------------\n",
            "Decision Tree Classifier Results:\n",
            "--------------------------------------------------------------------------\n",
            "              precision    recall  f1-score   support\n",
            "\n",
            "           0       0.96      0.98      0.97     18597\n",
            "           1       0.97      0.94      0.95     12555\n",
            "\n",
            "    accuracy                           0.96     31152\n",
            "   macro avg       0.96      0.96      0.96     31152\n",
            "weighted avg       0.96      0.96      0.96     31152\n",
            " \n",
            "\n",
            "--------------------------------------------------------------------------\n",
            "Confusion Matrix:\n",
            "[[18228   758]\n",
            " [  369 11797]]\n",
            "--------------------------------------------------------------------------\n",
            "Mean Squared Error: 0.04 \n",
            "\n",
            "Root Mean Squared Error: 0.19 \n",
            "\n",
            "--------------------------------------------------------------------------\n",
            "--- 0.39217591285705566 seconds --- time for Decision Tree\n",
            "#############################################################################\n",
            "#############################################################################\n",
            "Accuracy: 88.52% \n",
            "\n",
            "--------------------------------------------------------------------------\n",
            "K-Nearest Neighbors Classifier Results:\n",
            "--------------------------------------------------------------------------\n",
            "              precision    recall  f1-score   support\n",
            "\n",
            "           0       0.93      0.89      0.91     19769\n",
            "           1       0.82      0.88      0.85     11383\n",
            "\n",
            "    accuracy                           0.89     31152\n",
            "   macro avg       0.87      0.88      0.88     31152\n",
            "weighted avg       0.89      0.89      0.89     31152\n",
            " \n",
            "\n",
            "--------------------------------------------------------------------------\n",
            "Confusion Matrix:\n",
            "[[17590  1396]\n",
            " [ 2179  9987]]\n",
            "--------------------------------------------------------------------------\n",
            "Mean Squared Error: 0.11 \n",
            "\n",
            "Root Mean Squared Error: 0.34 \n",
            "\n",
            "--------------------------------------------------------------------------\n",
            "--- 15.01522421836853 seconds --- time for KNN\n",
            "#############################################################################\n",
            "#############################################################################\n",
            "Accuracy: 97.55% \n",
            "\n",
            "--------------------------------------------------------------------------\n",
            "Random Forest Classifier Results:\n",
            "--------------------------------------------------------------------------\n",
            "              precision    recall  f1-score   support\n",
            "\n",
            "           0       0.96      1.00      0.98     18282\n",
            "           1       1.00      0.94      0.97     12870\n",
            "\n",
            "    accuracy                           0.98     31152\n",
            "   macro avg       0.98      0.97      0.97     31152\n",
            "weighted avg       0.98      0.98      0.98     31152\n",
            " \n",
            "\n",
            "--------------------------------------------------------------------------\n",
            "--- 3.234694004058838 seconds --- time for Random Forest\n",
            "Confusion Matrix:\n",
            "[[18252   734]\n",
            " [   30 12136]]\n",
            "--------------------------------------------------------------------------\n",
            "Mean Squared Error: 0.02 \n",
            "\n",
            "Root Mean Squared Error: 0.16 \n",
            "\n",
            "--------------------------------------------------------------------------\n",
            "--- 3.2428178787231445 seconds --- time for Random Forest\n",
            "#############################################################################\n"
          ]
        }
      ],
      "source": [
        "M = Model(X, y)\n",
        "M.LogisticRegression()\n",
        "M.DecisionTree()\n",
        "M.KNN()\n",
        "M.RandomForest()\n"
      ]
    },
    {
      "cell_type": "code",
      "execution_count": null,
      "metadata": {
        "colab": {
          "background_save": true
        },
        "id": "rAz1uARQAm_o"
      },
      "outputs": [],
      "source": [
        "import pandas as pd\n",
        "import numpy as np\n",
        "from sklearn.model_selection import train_test_split\n",
        "from sklearn.ensemble import GradientBoostingClassifier\n",
        "from sklearn.metrics import accuracy_score, classification_report, confusion_matrix, mean_squared_error\n",
        "import time\n",
        "\n",
        "\n",
        "\n",
        "\n",
        "class Model:\n",
        "    def __init__(self, data, labels):\n",
        "        self.data = data\n",
        "        self.labels = labels\n",
        "        self.X_train, self.X_test, self.y_train, self.y_test = train_test_split(self.data, self.labels, random_state=42, test_size=0.3)\n",
        "\n",
        "\n",
        "\n",
        "\n",
        "    def GradientBoosting(self):\n",
        "        start_time = time.time()\n",
        "        gb = GradientBoostingClassifier(n_estimators=100, learning_rate=0.05, max_depth=3, random_state=42)\n",
        "        gb.fit(self.X_train, self.y_train)\n",
        "        predicted_gb = gb.predict(self.X_test)\n",
        "        accuracy_gb = accuracy_score(self.y_test, predicted_gb)\n",
        "        mse_gb = mean_squared_error(self.y_test, predicted_gb)\n",
        "        rmse_gb = np.sqrt(mse_gb)\n",
        "\n",
        "        print(\"#############################################################################\")\n",
        "        print(\"Gradient Boosting Classifier Results:\")\n",
        "        print(\"--------------------------------------------------------------------------\")\n",
        "        print(\"Accuracy: %.2f%%\" % (accuracy_gb * 100.0))\n",
        "        print(\"--------------------------------------------------------------------------\")\n",
        "        print(\"Classification Report:\")\n",
        "        print(classification_report(self.y_test, predicted_gb))\n",
        "        print(\"--------------------------------------------------------------------------\")\n",
        "        print(\"Confusion Matrix:\")\n",
        "        print(confusion_matrix(self.y_test, predicted_gb))\n",
        "        print(\"--------------------------------------------------------------------------\")\n",
        "        print(\"Mean Squared Error: %.2f\" % mse_gb)\n",
        "        print(\"Root Mean Squared Error: %.2f\" % rmse_gb)\n",
        "        print(\"--------------------------------------------------------------------------\")\n",
        "        print(\"--- %.2f seconds --- time for Gradient Boosting\" % (time.time() - start_time))\n",
        "        print(\"#############################################################################\")\n"
      ]
    },
    {
      "cell_type": "code",
      "execution_count": null,
      "metadata": {
        "colab": {
          "background_save": true
        },
        "id": "ze-Tg2onAnJ5"
      },
      "outputs": [],
      "source": [
        "data = pd.read_csv('/content/dataset_sdn.csv')"
      ]
    },
    {
      "cell_type": "code",
      "execution_count": null,
      "metadata": {
        "colab": {
          "background_save": true
        },
        "id": "qkU9QjZxAnHi"
      },
      "outputs": [],
      "source": [
        "df = data.dropna()\n",
        "x = df.drop(['dt','src','dst','label'], axis=1)\n",
        "y = df.label\n",
        "X = pd.get_dummies(x)"
      ]
    },
    {
      "cell_type": "code",
      "execution_count": null,
      "metadata": {
        "colab": {
          "background_save": true,
          "base_uri": "https://localhost:8080/"
        },
        "id": "atGjx37xAnB_",
        "outputId": "6a813845-188c-4c03-d9ac-e73d3e4541bc"
      },
      "outputs": [
        {
          "name": "stdout",
          "output_type": "stream",
          "text": [
            "#############################################################################\n",
            "Gradient Boosting Classifier Results:\n",
            "--------------------------------------------------------------------------\n",
            "Accuracy: 100.00%\n",
            "--------------------------------------------------------------------------\n",
            "Classification Report:\n",
            "              precision    recall  f1-score   support\n",
            "\n",
            "         0.0       1.00      1.00      1.00      3828\n",
            "         1.0       1.00      1.00      1.00      3918\n",
            "\n",
            "    accuracy                           1.00      7746\n",
            "   macro avg       1.00      1.00      1.00      7746\n",
            "weighted avg       1.00      1.00      1.00      7746\n",
            "\n",
            "--------------------------------------------------------------------------\n",
            "Confusion Matrix:\n",
            "[[3828    0]\n",
            " [   0 3918]]\n",
            "--------------------------------------------------------------------------\n",
            "Mean Squared Error: 0.00\n",
            "Root Mean Squared Error: 0.00\n",
            "--------------------------------------------------------------------------\n",
            "--- 2.97 seconds --- time for Gradient Boosting\n",
            "#############################################################################\n"
          ]
        }
      ],
      "source": [
        "M = Model(X, y)\n",
        "\n",
        "M.GradientBoosting()"
      ]
    },
    {
      "cell_type": "code",
      "execution_count": null,
      "metadata": {
        "colab": {
          "background_save": true
        },
        "id": "zpQN837RAnMu"
      },
      "outputs": [],
      "source": []
    },
    {
      "cell_type": "code",
      "execution_count": null,
      "metadata": {
        "id": "ZeSQ1Upj9Z6n"
      },
      "outputs": [],
      "source": [
        "import numpy as np\n",
        "from sklearn.model_selection import train_test_split\n",
        "from sklearn.preprocessing import StandardScaler, LabelEncoder\n",
        "from sklearn.metrics import accuracy_score, classification_report, mean_squared_error\n",
        "from sklearn.utils import class_weight\n",
        "from tensorflow.keras.models import Sequential\n",
        "from tensorflow.keras.layers import LSTM, GRU, Dense, Dropout\n",
        "from tensorflow.keras.optimizers import Adam\n",
        "from tensorflow.keras.callbacks import EarlyStopping\n",
        "\n",
        "\n"
      ]
    },
    {
      "cell_type": "code",
      "execution_count": null,
      "metadata": {
        "id": "NZFQfICMlvls"
      },
      "outputs": [],
      "source": [
        "df = pd.read_csv('/content/dataset_sdn.csv')"
      ]
    },
    {
      "cell_type": "code",
      "execution_count": null,
      "metadata": {
        "id": "jOmDv5kvnF3r"
      },
      "outputs": [],
      "source": [
        "X = df.drop('label', axis=1).values\n",
        "y = df['label'].values\n"
      ]
    },
    {
      "cell_type": "code",
      "execution_count": null,
      "metadata": {
        "id": "mhGCHr3i9Z9b"
      },
      "outputs": [],
      "source": [
        "\n",
        "np.random.seed(42)\n",
        "data_size = 1000\n",
        "num_features = 10\n",
        "X = np.random.randn(data_size, num_features)\n",
        "y = np.random.randint(0, 2, size=data_size)\n"
      ]
    },
    {
      "cell_type": "code",
      "execution_count": null,
      "metadata": {
        "id": "VQZXVmsu9aAG"
      },
      "outputs": [],
      "source": [
        "\n",
        "label_encoder = LabelEncoder()\n",
        "y = label_encoder.fit_transform(y)\n",
        "\n",
        "\n",
        "scaler = StandardScaler()\n",
        "X = scaler.fit_transform(X)"
      ]
    },
    {
      "cell_type": "code",
      "execution_count": null,
      "metadata": {
        "id": "2pD-bpMz9aDi"
      },
      "outputs": [],
      "source": [
        "\n",
        "X_train, X_test, y_train, y_test = train_test_split(X, y, test_size=0.2, random_state=42)\n"
      ]
    },
    {
      "cell_type": "code",
      "execution_count": null,
      "metadata": {
        "id": "pRzM-W78AnQX"
      },
      "outputs": [],
      "source": [
        "\n",
        "X_train = np.reshape(X_train, (X_train.shape[0], 1, X_train.shape[1]))\n",
        "X_test = np.reshape(X_test, (X_test.shape[0], 1, X_test.shape[1]))"
      ]
    },
    {
      "cell_type": "code",
      "execution_count": null,
      "metadata": {
        "id": "QQnIdQTo9ybO"
      },
      "outputs": [],
      "source": [
        "\n",
        "class_weights = class_weight.compute_class_weight(class_weight='balanced', classes=np.unique(y_train), y=y_train)\n",
        "class_weights = {i: class_weights[i] for i in range(len(class_weights))}\n"
      ]
    },
    {
      "cell_type": "code",
      "execution_count": null,
      "metadata": {
        "id": "sdf_ixGC9yeL"
      },
      "outputs": [],
      "source": [
        "model = Sequential([\n",
        "    GRU(128, input_shape=(X_train.shape[1], X_train.shape[2]), return_sequences=True),\n",
        "    Dropout(0.3),\n",
        "    GRU(64, return_sequences=True),\n",
        "    Dropout(0.2),\n",
        "    GRU(32),\n",
        "    Dropout(0.2),\n",
        "    Dense(1, activation='sigmoid')\n",
        "])"
      ]
    },
    {
      "cell_type": "code",
      "execution_count": null,
      "metadata": {
        "id": "ShtPJbTl9yhF"
      },
      "outputs": [],
      "source": [
        "\n",
        "optimizer = Adam(learning_rate=0.001)\n",
        "model.compile(optimizer=optimizer, loss='binary_crossentropy', metrics=['accuracy'])\n"
      ]
    },
    {
      "cell_type": "code",
      "execution_count": null,
      "metadata": {
        "id": "7CsfM_3M9yjm"
      },
      "outputs": [],
      "source": [
        "\n",
        "early_stopping = EarlyStopping(monitor='val_loss', patience=5, restore_best_weights=True)\n"
      ]
    },
    {
      "cell_type": "code",
      "execution_count": null,
      "metadata": {
        "colab": {
          "base_uri": "https://localhost:8080/"
        },
        "id": "nhQDIY-X9ymX",
        "outputId": "f4dc314d-de1d-4287-a4a5-c3c86341651e"
      },
      "outputs": [
        {
          "name": "stdout",
          "output_type": "stream",
          "text": [
            "Epoch 1/50\n",
            "25/25 [==============================] - 8s 95ms/step - loss: 0.6950 - accuracy: 0.4700 - val_loss: 0.6934 - val_accuracy: 0.5050\n",
            "Epoch 2/50\n",
            "25/25 [==============================] - 0s 8ms/step - loss: 0.6916 - accuracy: 0.5325 - val_loss: 0.6937 - val_accuracy: 0.5100\n",
            "Epoch 3/50\n",
            "25/25 [==============================] - 0s 7ms/step - loss: 0.6903 - accuracy: 0.5350 - val_loss: 0.6945 - val_accuracy: 0.4850\n",
            "Epoch 4/50\n",
            "25/25 [==============================] - 0s 10ms/step - loss: 0.6879 - accuracy: 0.5462 - val_loss: 0.6957 - val_accuracy: 0.4850\n",
            "Epoch 5/50\n",
            "25/25 [==============================] - 0s 8ms/step - loss: 0.6872 - accuracy: 0.5512 - val_loss: 0.6976 - val_accuracy: 0.4800\n",
            "Epoch 6/50\n",
            "25/25 [==============================] - 0s 8ms/step - loss: 0.6875 - accuracy: 0.5375 - val_loss: 0.6981 - val_accuracy: 0.4750\n"
          ]
        }
      ],
      "source": [
        "\n",
        "history = model.fit(X_train, y_train, epochs=50, batch_size=32, validation_data=(X_test, y_test),\n",
        "                    class_weight=class_weights, callbacks=[early_stopping])\n"
      ]
    },
    {
      "cell_type": "code",
      "execution_count": null,
      "metadata": {
        "colab": {
          "base_uri": "https://localhost:8080/"
        },
        "id": "jcAo-dk39yr6",
        "outputId": "7a20a206-a2d3-467a-8008-4ccc5b8aff62"
      },
      "outputs": [
        {
          "name": "stdout",
          "output_type": "stream",
          "text": [
            "7/7 [==============================] - 1s 4ms/step\n"
          ]
        }
      ],
      "source": [
        "\n",
        "y_pred_prob = model.predict(X_test)\n",
        "\n",
        "y_pred = (y_pred_prob > 0.5).astype(int).flatten()\n"
      ]
    },
    {
      "cell_type": "code",
      "execution_count": null,
      "metadata": {
        "colab": {
          "base_uri": "https://localhost:8080/"
        },
        "id": "rUn8Wb4y9yvI",
        "outputId": "758fa9b3-fda3-48bf-976b-7f8241c2df61"
      },
      "outputs": [
        {
          "name": "stdout",
          "output_type": "stream",
          "text": [
            "7/7 [==============================] - 0s 5ms/step - loss: 0.6934 - accuracy: 0.5050\n",
            "Test accuracy: 50.50%\n",
            "Classification Report:\n",
            "              precision    recall  f1-score   support\n",
            "\n",
            "           0       0.48      0.33      0.39        96\n",
            "           1       0.52      0.66      0.58       104\n",
            "\n",
            "    accuracy                           0.51       200\n",
            "   macro avg       0.50      0.50      0.49       200\n",
            "weighted avg       0.50      0.51      0.49       200\n",
            "\n",
            "Mean Squared Error: 0.4950\n",
            "Root Mean Squared Error: 0.7036\n",
            "Confusion Matrix:\n",
            "[[32 64]\n",
            " [35 69]]\n"
          ]
        }
      ],
      "source": [
        "\n",
        "loss, accuracy = model.evaluate(X_test, y_test)\n",
        "print(f'Test accuracy: {accuracy * 100:.2f}%')\n",
        "\n",
        "\n",
        "print(\"GRU Classification Report:\")\n",
        "print(classification_report(y_test, y_pred))\n",
        "\n",
        "# Calculate mean squared error (MSE) and root mean squared error (RMSE)\n",
        "mse = mean_squared_error(y_test, y_pred)\n",
        "rmse = np.sqrt(mse)\n",
        "print(f\"Mean Squared Error: {mse:.4f}\")\n",
        "print(f\"Root Mean Squared Error: {rmse:.4f}\")\n",
        "\n",
        "# Compute and print confusion matrix\n",
        "cm = confusion_matrix(y_test, y_pred)\n",
        "print(\"Confusion Matrix:\")\n",
        "print(cm)"
      ]
    }
  ],
  "metadata": {
    "colab": {
      "provenance": []
    },
    "kernelspec": {
      "display_name": "Python 3",
      "name": "python3"
    },
    "language_info": {
      "name": "python"
    }
  },
  "nbformat": 4,
  "nbformat_minor": 0
}